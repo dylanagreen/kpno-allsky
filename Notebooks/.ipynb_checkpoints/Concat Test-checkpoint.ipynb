{
 "cells": [
  {
   "cell_type": "code",
   "execution_count": 10,
   "metadata": {
    "collapsed": true
   },
   "outputs": [],
   "source": [
    "import numpy as np\n",
    "singles = np.random.rand(512,512,4,1)\n",
    "multi = np.random.rand(512,512,4,1)"
   ]
  },
  {
   "cell_type": "code",
   "execution_count": 44,
   "metadata": {},
   "outputs": [
    {
     "name": "stdout",
     "output_type": "stream",
     "text": [
      "(512, 512, 4, 165)\n",
      " "
     ]
    }
   ],
   "source": [
    "def single(multi, single):\n",
    "    for i in range(1,165):\n",
    "        multi = np.concatenate((multi, single), axis = 3)\n",
    "    return multi.shape\n",
    "\n",
    "%prun print(single(multi,singles))"
   ]
  },
  {
   "cell_type": "code",
   "execution_count": 50,
   "metadata": {},
   "outputs": [
    {
     "name": "stdout",
     "output_type": "stream",
     "text": [
      "100\n",
      "100\n",
      "0\n",
      "(512, 512, 4, 200)\n",
      " "
     ]
    }
   ],
   "source": [
    "def split(multi, single):\n",
    "    dict = {}\n",
    "    imgs = 200\n",
    "    n = 0\n",
    "    temp = multi\n",
    "    while n <= (imgs // 100):\n",
    "        if (n+1)*100 < imgs:\n",
    "            final = 100  \n",
    "        else:\n",
    "            final = (imgs - n*100)\n",
    "         \n",
    "        for i in range(1,final):\n",
    "            temp = np.concatenate((temp,single), axis = 3)\n",
    "        \n",
    "        n += 1\n",
    "        if final > 0:\n",
    "            dict[n] = temp\n",
    "            temp = multi\n",
    "    \n",
    "    toreturn = multi\n",
    "    for key, val in dict.items():\n",
    "        if key == 1:\n",
    "            toreturn = val\n",
    "        else:\n",
    "            toreturn = np.concatenate((toreturn,val), axis = 3)\n",
    "    return toreturn.shape\n",
    "\n",
    "%prun print(split(multi,singles))"
   ]
  },
  {
   "cell_type": "code",
   "execution_count": null,
   "metadata": {},
   "outputs": [],
   "source": []
  },
  {
   "cell_type": "code",
   "execution_count": null,
   "metadata": {},
   "outputs": [],
   "source": []
  },
  {
   "cell_type": "code",
   "execution_count": null,
   "metadata": {
    "collapsed": true
   },
   "outputs": [],
   "source": []
  }
 ],
 "metadata": {
  "kernelspec": {
   "display_name": "Python 3",
   "language": "python",
   "name": "python3"
  },
  "language_info": {
   "codemirror_mode": {
    "name": "ipython",
    "version": 3
   },
   "file_extension": ".py",
   "mimetype": "text/x-python",
   "name": "python",
   "nbconvert_exporter": "python",
   "pygments_lexer": "ipython3",
   "version": "3.6.1"
  }
 },
 "nbformat": 4,
 "nbformat_minor": 2
}
